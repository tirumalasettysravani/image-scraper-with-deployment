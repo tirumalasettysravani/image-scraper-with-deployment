{
 "cells": [
  {
   "cell_type": "markdown",
   "metadata": {},
   "source": [
    "# image scraper with deployment"
   ]
  },
  {
   "cell_type": "code",
   "execution_count": 11,
   "metadata": {},
   "outputs": [],
   "source": [
    "import requests \n",
    "from bs4 import BeautifulSoup "
   ]
  },
  {
   "cell_type": "code",
   "execution_count": 12,
   "metadata": {},
   "outputs": [],
   "source": [
    "def getdata(url): \n",
    "    r = requests.get(url) \n",
    "    return r.text "
   ]
  },
  {
   "cell_type": "code",
   "execution_count": 13,
   "metadata": {},
   "outputs": [
    {
     "name": "stdout",
     "output_type": "stream",
     "text": [
      "/images/branding/searchlogo/1x/googlelogo_desk_heirloom_color_150x55dp.gif\n",
      "https://encrypted-tbn0.gstatic.com/images?q=tbn:ANd9GcQrxxJFhkSn25np-XKOhrVOUf67NJw5-GNDR7oGalSzS9nzV-meGeGxvQa2EQ&s\n",
      "https://encrypted-tbn0.gstatic.com/images?q=tbn:ANd9GcS59vgeXdSCETHjjX3Ed7gM5SpOPVW7HbNWFWOHAA3Z82tYMrFmf2Kerw48tzU&s\n",
      "https://encrypted-tbn0.gstatic.com/images?q=tbn:ANd9GcQg84dZBGQOI7-1ZhVHLk8r6tFB7mlBPNCPlNDpXAFFdPvRzGXyJPukpQcsow&s\n",
      "https://encrypted-tbn0.gstatic.com/images?q=tbn:ANd9GcTQZYWNXPLIEcfCSl8GoATk3Z5qC5VIkC1tRQTUiQaeQVHQS6hUF_lPx28QKA&s\n",
      "https://encrypted-tbn0.gstatic.com/images?q=tbn:ANd9GcQGJGlvCljTMKyHV-jlb7fnH2R2fm38ZV57kwsiV_yTy2ASY47zGjNdKQPZSIE&s\n",
      "https://encrypted-tbn0.gstatic.com/images?q=tbn:ANd9GcTOrDzteohstap25Q-WnNU0iln3LRl0vWsXy8W3gMIZsZ1bdX5yz1yP7qqD_w&s\n",
      "https://encrypted-tbn0.gstatic.com/images?q=tbn:ANd9GcTUt2HSUCAIoaAUWSnM3OwPh_SrAog557fw80X0YOw0_o6Kr3OggG0hC-sGyO4&s\n",
      "https://encrypted-tbn0.gstatic.com/images?q=tbn:ANd9GcRRWRGN6rxeHKAI3LN3B8Rnrw5sOE9tcgNIzs_pMAc-DlgqcsLptbaYK2TAEg&s\n",
      "https://encrypted-tbn0.gstatic.com/images?q=tbn:ANd9GcSVpZRyh9YIJkVk65lRvokXYfEj5jMOjRco53I41AdZVLM9sq1c-bu1xK2v-A&s\n",
      "https://encrypted-tbn0.gstatic.com/images?q=tbn:ANd9GcQMzZxjPtmzIYkIsPwj984sO0AYYdVEUKccW-nyOf46azheSDsw3MzYY7GdXSM&s\n",
      "https://encrypted-tbn0.gstatic.com/images?q=tbn:ANd9GcTGjyBA-5mVe7bGLp1Y0KQ7zXu93Uh1nDedXFPq-pbU492iyjTjzI2q7-jQSis&s\n",
      "https://encrypted-tbn0.gstatic.com/images?q=tbn:ANd9GcQi3zkEllvjo7sr_YmhlF7wxsw9KGnIPkQCF_uOUJ9CijgP08cuqKRw-e5IPvo&s\n",
      "https://encrypted-tbn0.gstatic.com/images?q=tbn:ANd9GcT00h8sbBNyr5XNp5ulMWGC3vpNVtnX5jA35mUVTWqG51Jvco5do0yAalDv0G8&s\n",
      "https://encrypted-tbn0.gstatic.com/images?q=tbn:ANd9GcSr8IyKNFRwyjCKAtaYI3gAbbFH8lNdggIOKohnrSY5_aVq0KoaHskgZVl02s8&s\n",
      "https://encrypted-tbn0.gstatic.com/images?q=tbn:ANd9GcT4wKdatpuBLl8eUJXvjTVRMKD_MExmUYB1fwOdWImU7yEkgcjMkbHmETsIfRY&s\n",
      "https://encrypted-tbn0.gstatic.com/images?q=tbn:ANd9GcToPZWg1gUb2IGYGyndt2dSMxi5vlv0YfNwNoh4mmCvpwaeIRhgwAjaZ9xvSzI&s\n",
      "https://encrypted-tbn0.gstatic.com/images?q=tbn:ANd9GcTZp__PcGLMpuTWNguDVSUJ4Y6YQIpqKjHdJyUg5B7iygeCfx1tHxe9xKsj_lk&s\n",
      "https://encrypted-tbn0.gstatic.com/images?q=tbn:ANd9GcROiUfF407Ve82FZk1YSmONMoLpfARUEySSQrUA1NJQsxY6Owle0TOC71Lykq8&s\n",
      "https://encrypted-tbn0.gstatic.com/images?q=tbn:ANd9GcScce9v7vjen4KSzs509VFQUx09iZImbhEXVuyix1JSupcnxSgz8TTJtGECyw&s\n",
      "https://encrypted-tbn0.gstatic.com/images?q=tbn:ANd9GcRe730moTroH-2LIIrpp0sK_--dODAehWFwJnznHp-yQU1Wd2lIvBUhYL0phIA&s\n"
     ]
    }
   ],
   "source": [
    "htmldata = getdata(\"https://www.google.com/search?q=car+images&rlz=1C1SQJL_enIN886IN887&sxsrf=ALeKk02eHGG8TlYNNlUSm-L4OryqyVURxg:1617182673788&source=lnms&tbm=isch&sa=X&ved=2ahUKEwiekLv2mtrvAhVS4zgGHev3D3UQ_AUoAXoECAEQAw&biw=1366&bih=663#imgrc=OlAb6UvCtIzf9M\") \n",
    "soup = BeautifulSoup(htmldata, 'html.parser') \n",
    "for item in soup('img'):\n",
    "    print(item['src'])"
   ]
  },
  {
   "cell_type": "code",
   "execution_count": null,
   "metadata": {},
   "outputs": [],
   "source": []
  },
  {
   "cell_type": "code",
   "execution_count": null,
   "metadata": {},
   "outputs": [],
   "source": []
  },
  {
   "cell_type": "code",
   "execution_count": null,
   "metadata": {},
   "outputs": [],
   "source": []
  },
  {
   "cell_type": "code",
   "execution_count": null,
   "metadata": {},
   "outputs": [],
   "source": []
  },
  {
   "cell_type": "code",
   "execution_count": null,
   "metadata": {},
   "outputs": [],
   "source": []
  },
  {
   "cell_type": "code",
   "execution_count": null,
   "metadata": {},
   "outputs": [],
   "source": []
  },
  {
   "cell_type": "code",
   "execution_count": null,
   "metadata": {},
   "outputs": [],
   "source": []
  },
  {
   "cell_type": "code",
   "execution_count": null,
   "metadata": {},
   "outputs": [],
   "source": []
  }
 ],
 "metadata": {
  "kernelspec": {
   "display_name": "Python 3",
   "language": "python",
   "name": "python3"
  },
  "language_info": {
   "codemirror_mode": {
    "name": "ipython",
    "version": 3
   },
   "file_extension": ".py",
   "mimetype": "text/x-python",
   "name": "python",
   "nbconvert_exporter": "python",
   "pygments_lexer": "ipython3",
   "version": "3.8.3"
  }
 },
 "nbformat": 4,
 "nbformat_minor": 4
}
